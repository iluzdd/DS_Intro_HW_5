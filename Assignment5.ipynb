{
 "cells": [
  {
   "cell_type": "code",
   "execution_count": 1,
   "id": "37cfe1af",
   "metadata": {},
   "outputs": [],
   "source": [
    "#################################################\n",
    "### Assignment 5                              ###\n",
    "### Dvir David Iluz                           ###\n",
    "### 311447668                                 ###\n",
    "#################################################"
   ]
  },
  {
   "cell_type": "markdown",
   "id": "0c577a84",
   "metadata": {},
   "source": [
    "### Import libraries and assign API"
   ]
  },
  {
   "cell_type": "code",
   "execution_count": 2,
   "id": "00f82e00",
   "metadata": {},
   "outputs": [],
   "source": [
    "import json\n",
    "import requests\n",
    "import pandas as pd\n",
    "import googlemaps as gm\n",
    "from bs4 import BeautifulSoup"
   ]
  },
  {
   "cell_type": "markdown",
   "id": "0a538e5c",
   "metadata": {},
   "source": [
    "### Read csv file & save api"
   ]
  },
  {
   "cell_type": "code",
   "execution_count": 3,
   "id": "3940a555",
   "metadata": {},
   "outputs": [],
   "source": [
    "api = 'fakeapiforgooglecloud'\n",
    "file = pd.read_csv(\"destinations_LP_crawler_Ex5.csv\")"
   ]
  },
  {
   "cell_type": "markdown",
   "id": "cf7e7bc0",
   "metadata": {},
   "source": [
    "### Function to find country by lat and lng values"
   ]
  },
  {
   "cell_type": "code",
   "execution_count": 4,
   "id": "1ef2a4d2",
   "metadata": {},
   "outputs": [],
   "source": [
    "def reverseGeocode(cords):\n",
    "    gmaps = gm.Client(key=api)\n",
    "    res = gmaps.reverse_geocode(cords)\n",
    "    country = res[-1]['address_components'][0]['long_name']\n",
    "    return country"
   ]
  },
  {
   "cell_type": "markdown",
   "id": "26faa916",
   "metadata": {},
   "source": [
    "### Getting all cities lat and lng values calling the reverseGeo function to append countries to a list"
   ]
  },
  {
   "cell_type": "code",
   "execution_count": 5,
   "id": "620c46fc",
   "metadata": {},
   "outputs": [],
   "source": [
    "countries_list = []\n",
    "for city in file['city']:\n",
    "    url_geo = 'https://maps.googleapis.com/maps/api/geocode/json?address=%s&key=%s' % (city,api)\n",
    "    try:\n",
    "        response_geo = requests.get(url_geo)\n",
    "        if not response_geo.status_code == 200:\n",
    "            print('HTTP ERROR', response.status_code)\n",
    "        else:\n",
    "            try:\n",
    "                response_data_geo = response_geo.json()\n",
    "            except:\n",
    "                print(\"response not in valid JSON format\")\n",
    "    except:\n",
    "        print(\"Something went wrong with requests.get\")\n",
    "    location_lat = str(response_data_geo['results'][0]['geometry']['location']['lat'])\n",
    "    location_lng = str(response_data_geo['results'][0]['geometry']['location']['lng'])\n",
    "    cord = (location_lat,location_lng)\n",
    "    country = reverseGeocode(cord)\n",
    "    countries_list.append(country)"
   ]
  },
  {
   "cell_type": "markdown",
   "id": "26c55a1d",
   "metadata": {},
   "source": [
    "### Create URLs & Fix United States to usa"
   ]
  },
  {
   "cell_type": "code",
   "execution_count": 6,
   "id": "229a75a5",
   "metadata": {},
   "outputs": [],
   "source": [
    "url_base = 'https://www.lonelyplanet.com/'\n",
    "urls = []\n",
    "for index,extension in enumerate(file['city_LP']):\n",
    "    url = url_base+countries_list[index]+\"/\"+extension\n",
    "    urls.append(url)\n",
    "urls = [word.replace('United States', 'usa') for word in urls]"
   ]
  },
  {
   "cell_type": "markdown",
   "id": "686694bd",
   "metadata": {},
   "source": [
    "### Get description for every url and append it to a list"
   ]
  },
  {
   "cell_type": "code",
   "execution_count": 16,
   "id": "8c34be01",
   "metadata": {
    "scrolled": true
   },
   "outputs": [
    {
     "name": "stdout",
     "output_type": "stream",
     "text": [
      "Success, https://www.lonelyplanet.com/Turkey/mediterranean-coast/antalya\n",
      "Success, https://www.lonelyplanet.com/Greece/Athens\n",
      "Success, https://www.lonelyplanet.com/Cyprus/the-republic-of-cyprus/Agia-napa\n",
      "Success, https://www.lonelyplanet.com/Thailand/Bangkok\n",
      "Success, https://www.lonelyplanet.com/Spain/Barcelona\n",
      "Success, https://www.lonelyplanet.com/Switzerland/northern-switzerland/basel\n",
      "Success, https://www.lonelyplanet.com/Georgia/adjara/batumi\n",
      "Success, https://www.lonelyplanet.com/China/Beijing\n",
      "Success, https://www.lonelyplanet.com/Germany/Berlin\n",
      "Success, https://www.lonelyplanet.com/usa/Boston\n",
      "Success, https://www.lonelyplanet.com/Slovakia/Bratislava\n",
      "Success, https://www.lonelyplanet.com/Belgium/Brussels\n",
      "Success, https://www.lonelyplanet.com/Romania/Bucharest\n",
      "Success, https://www.lonelyplanet.com/Hungary/Budapest\n",
      "Success, https://www.lonelyplanet.com/Bulgaria/black-sea-coast/burgas\n",
      "Success, https://www.lonelyplanet.com/Mexico/Cancun\n",
      "Success, https://www.lonelyplanet.com/Italy/sicily/catania\n",
      "Success, https://www.lonelyplanet.com/Thailand/chiang-mai-province/Chiang-mai\n",
      "Success, https://www.lonelyplanet.com/Germany/north-rhine-westphalia/cologne\n",
      "Success, https://www.lonelyplanet.com/Greece/ionian-islands/corfu\n",
      "Success, https://www.lonelyplanet.com/Spain/Costa-Brava\n",
      "Success, https://www.lonelyplanet.com/Greece/Crete\n",
      "Success, https://www.lonelyplanet.com/Poland/malopolska/krakow\n",
      "Success, https://www.lonelyplanet.com/India/Delhi\n",
      "Success, https://www.lonelyplanet.com/Germany/saxony/dresden\n",
      "Success, https://www.lonelyplanet.com/Ireland/Dublin\n",
      "Success, https://www.lonelyplanet.com/Croatia/Dubrovnik\n",
      "Success, https://www.lonelyplanet.com/Germany/north-rhine-westphalia/Dusseldorf\n",
      "Error, https://www.lonelyplanet.com/Israel/the-negev/eilat\n",
      "Success, https://www.lonelyplanet.com/Italy/Florence\n",
      "Success, https://www.lonelyplanet.com/Germany/frankfurt-southern-rhineland\n",
      "Success, https://www.lonelyplanet.com/Switzerland/Geneva\n",
      "Success, https://www.lonelyplanet.com/China/guangdong/guangzhou\n",
      "Success, https://www.lonelyplanet.com/Germany/Hamburg\n",
      "Success, https://www.lonelyplanet.com/Austria/tirol/innsbruck\n",
      "Success, https://www.lonelyplanet.com/Turkey/Istanbul\n",
      "Success, https://www.lonelyplanet.com/Greece/dodecanese/kos\n",
      "Success, https://www.lonelyplanet.com/Thailand/Ko-samui\n",
      "Success, https://www.lonelyplanet.com/Ukraine/Kyiv\n",
      "Success, https://www.lonelyplanet.com/Cyprus/the-republic-of-cyprus/larnaka\n",
      "Success, https://www.lonelyplanet.com/usa/Las-Vegas\n",
      "Success, https://www.lonelyplanet.com/Cyprus/the-republic-of-cyprus/lemesos-limasol\n",
      "Success, https://www.lonelyplanet.com/Portugal/Lisbon\n",
      "Success, https://www.lonelyplanet.com/Slovenia/Ljubljana\n",
      "Success, https://www.lonelyplanet.com/usa/Los-Angeles\n",
      "Success, https://www.lonelyplanet.com/Spain/Madrid\n",
      "Success, https://www.lonelyplanet.com/Philippines/Manila\n",
      "Success, https://www.lonelyplanet.com/France/provence/Marseille\n",
      "Success, https://www.lonelyplanet.com/Mexico/Mexico-City\n",
      "Success, https://www.lonelyplanet.com/usa/Miami\n",
      "Success, https://www.lonelyplanet.com/Italy/Milan\n",
      "Success, https://www.lonelyplanet.com/Russia/Moscow\n",
      "Success, https://www.lonelyplanet.com/India/mumbai-bombay\n",
      "Success, https://www.lonelyplanet.com/Germany/Munich\n",
      "Success, https://www.lonelyplanet.com/Greece/cyclades/mykonos\n",
      "Success, https://www.lonelyplanet.com/Italy/campania/naples\n",
      "Success, https://www.lonelyplanet.com/France/Nice\n",
      "Success, https://www.lonelyplanet.com/Ukraine/Odesa\n",
      "Success, https://www.lonelyplanet.com/France/Paris\n",
      "Success, https://www.lonelyplanet.com/Thailand/phuket-province\n",
      "Success, https://www.lonelyplanet.com/Greece/dodecanese/rhodes\n",
      "Success, https://www.lonelyplanet.com/Italy/Rome\n",
      "Success, https://www.lonelyplanet.com/Austria/Salzburg\n",
      "Success, https://www.lonelyplanet.com/usa/San-Francisco\n",
      "Success, https://www.lonelyplanet.com/China/Shanghai\n",
      "Success, https://www.lonelyplanet.com/Bulgaria/Sofia\n",
      "Success, https://www.lonelyplanet.com/Russia/St-Petersburg\n",
      "Success, https://www.lonelyplanet.com/Germany/baden-wurttemberg/stuttgart\n",
      "Success, https://www.lonelyplanet.com/Taiwan/Taipei\n",
      "Success, https://www.lonelyplanet.com/Georgia/Tbilisi\n",
      "Success, https://www.lonelyplanet.com/Greece/northern-greece/Thessaloniki\n",
      "Success, https://www.lonelyplanet.com/Canada/Toronto\n",
      "Success, https://www.lonelyplanet.com/Italy/Venice\n",
      "Success, https://www.lonelyplanet.com/Austria/Vienna\n",
      "Success, https://www.lonelyplanet.com/Poland/Warsaw\n",
      "Success, https://www.lonelyplanet.com/Greece/Zakynthos\n",
      "Success, https://www.lonelyplanet.com/Switzerland/Zurich\n"
     ]
    }
   ],
   "source": [
    "descriptions = []\n",
    "for url in urls:\n",
    "    response = requests.get(url)\n",
    "    if not response.status_code == 200:\n",
    "        print(f\"Error, {url}\")\n",
    "        descriptions.append(' ')\n",
    "    else: \n",
    "        print(f'Success, {url}')\n",
    "    result = BeautifulSoup(response.content,'html.parser')\n",
    "    for descr in result.find_all('div',class_='readMore_content___5EuR relative overflow-hidden max-h-96 is-max wysiwyg'):\n",
    "        descriptions.append(descr.get_text())"
   ]
  },
  {
   "cell_type": "markdown",
   "id": "73c28753",
   "metadata": {},
   "source": [
    "#### As you can see we received an error for Israel, because google give us Israel, \n",
    "#### and the website real address is https://www.lonelyplanet.com/israel-and-the-palestinian-territories/the-negev/eilat\n",
    "#### israel-and-the-palestinian-territories\n",
    "#### This is something I wont change,\n",
    "#### because it goes against my beliefs and principles."
   ]
  },
  {
   "cell_type": "markdown",
   "id": "3ed18d72",
   "metadata": {},
   "source": [
    "### Create dataframe with city, country and description and make csv file"
   ]
  },
  {
   "cell_type": "code",
   "execution_count": 17,
   "id": "3666d238",
   "metadata": {},
   "outputs": [],
   "source": [
    "dict_all = {'City': file['city'], 'Country': countries_list, 'Description': descriptions}\n",
    "df = pd.DataFrame(dict_all)\n",
    "df.to_csv('LP_destinations.csv')"
   ]
  },
  {
   "cell_type": "markdown",
   "id": "125c1861",
   "metadata": {},
   "source": [
    "### Presenting the DataFrame"
   ]
  },
  {
   "cell_type": "code",
   "execution_count": 18,
   "id": "a9bdd504",
   "metadata": {},
   "outputs": [
    {
     "data": {
      "text/html": [
       "<div>\n",
       "<style scoped>\n",
       "    .dataframe tbody tr th:only-of-type {\n",
       "        vertical-align: middle;\n",
       "    }\n",
       "\n",
       "    .dataframe tbody tr th {\n",
       "        vertical-align: top;\n",
       "    }\n",
       "\n",
       "    .dataframe thead th {\n",
       "        text-align: right;\n",
       "    }\n",
       "</style>\n",
       "<table border=\"1\" class=\"dataframe\">\n",
       "  <thead>\n",
       "    <tr style=\"text-align: right;\">\n",
       "      <th></th>\n",
       "      <th>City</th>\n",
       "      <th>Country</th>\n",
       "      <th>Description</th>\n",
       "    </tr>\n",
       "  </thead>\n",
       "  <tbody>\n",
       "    <tr>\n",
       "      <th>0</th>\n",
       "      <td>Antalya</td>\n",
       "      <td>Turkey</td>\n",
       "      <td>Once seen simply as the gateway to the Turkish...</td>\n",
       "    </tr>\n",
       "    <tr>\n",
       "      <th>1</th>\n",
       "      <td>Athens</td>\n",
       "      <td>Greece</td>\n",
       "      <td>With equal measures of grunge and grace, Athen...</td>\n",
       "    </tr>\n",
       "    <tr>\n",
       "      <th>2</th>\n",
       "      <td>Ayia-napa</td>\n",
       "      <td>Cyprus</td>\n",
       "      <td>Endless blue-sky days and a coastline riddled ...</td>\n",
       "    </tr>\n",
       "    <tr>\n",
       "      <th>3</th>\n",
       "      <td>Bangkok</td>\n",
       "      <td>Thailand</td>\n",
       "      <td>Same same, but different. This Thailish T-shir...</td>\n",
       "    </tr>\n",
       "    <tr>\n",
       "      <th>4</th>\n",
       "      <td>Barcelona</td>\n",
       "      <td>Spain</td>\n",
       "      <td>Barcelona is an enchanting seaside city with b...</td>\n",
       "    </tr>\n",
       "    <tr>\n",
       "      <th>...</th>\n",
       "      <td>...</td>\n",
       "      <td>...</td>\n",
       "      <td>...</td>\n",
       "    </tr>\n",
       "    <tr>\n",
       "      <th>72</th>\n",
       "      <td>Venice</td>\n",
       "      <td>Italy</td>\n",
       "      <td>Imagine the audacity of building a city of mar...</td>\n",
       "    </tr>\n",
       "    <tr>\n",
       "      <th>73</th>\n",
       "      <td>Vienna</td>\n",
       "      <td>Austria</td>\n",
       "      <td>Baroque streetscapes and imperial palaces set ...</td>\n",
       "    </tr>\n",
       "    <tr>\n",
       "      <th>74</th>\n",
       "      <td>Warsaw</td>\n",
       "      <td>Poland</td>\n",
       "      <td>A phoenix arisen from the ashes, Poland's capi...</td>\n",
       "    </tr>\n",
       "    <tr>\n",
       "      <th>75</th>\n",
       "      <td>Zakynthos</td>\n",
       "      <td>Greece</td>\n",
       "      <td>Zakynthos, also known by its Italian name Zant...</td>\n",
       "    </tr>\n",
       "    <tr>\n",
       "      <th>76</th>\n",
       "      <td>Zurich</td>\n",
       "      <td>Switzerland</td>\n",
       "      <td>Culturally vibrant, efficiently run and attrac...</td>\n",
       "    </tr>\n",
       "  </tbody>\n",
       "</table>\n",
       "<p>77 rows × 3 columns</p>\n",
       "</div>"
      ],
      "text/plain": [
       "         City      Country                                        Description\n",
       "0     Antalya       Turkey  Once seen simply as the gateway to the Turkish...\n",
       "1      Athens       Greece  With equal measures of grunge and grace, Athen...\n",
       "2   Ayia-napa       Cyprus  Endless blue-sky days and a coastline riddled ...\n",
       "3     Bangkok     Thailand  Same same, but different. This Thailish T-shir...\n",
       "4   Barcelona        Spain  Barcelona is an enchanting seaside city with b...\n",
       "..        ...          ...                                                ...\n",
       "72     Venice        Italy  Imagine the audacity of building a city of mar...\n",
       "73     Vienna      Austria  Baroque streetscapes and imperial palaces set ...\n",
       "74     Warsaw       Poland  A phoenix arisen from the ashes, Poland's capi...\n",
       "75  Zakynthos       Greece  Zakynthos, also known by its Italian name Zant...\n",
       "76     Zurich  Switzerland  Culturally vibrant, efficiently run and attrac...\n",
       "\n",
       "[77 rows x 3 columns]"
      ]
     },
     "execution_count": 18,
     "metadata": {},
     "output_type": "execute_result"
    }
   ],
   "source": [
    "df"
   ]
  },
  {
   "cell_type": "code",
   "execution_count": null,
   "id": "a51faf85",
   "metadata": {},
   "outputs": [],
   "source": []
  }
 ],
 "metadata": {
  "kernelspec": {
   "display_name": "Python 3 (ipykernel)",
   "language": "python",
   "name": "python3"
  },
  "language_info": {
   "codemirror_mode": {
    "name": "ipython",
    "version": 3
   },
   "file_extension": ".py",
   "mimetype": "text/x-python",
   "name": "python",
   "nbconvert_exporter": "python",
   "pygments_lexer": "ipython3",
   "version": "3.9.7"
  }
 },
 "nbformat": 4,
 "nbformat_minor": 5
}
